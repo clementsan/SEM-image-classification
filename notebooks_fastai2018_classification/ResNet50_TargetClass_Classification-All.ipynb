{
 "cells": [
  {
   "cell_type": "markdown",
   "metadata": {},
   "source": [
    "## ResNet50 - multi classification"
   ]
  },
  {
   "cell_type": "markdown",
   "metadata": {},
   "source": [
    "## Import libraries"
   ]
  },
  {
   "cell_type": "code",
   "execution_count": null,
   "metadata": {},
   "outputs": [],
   "source": [
    "# Put these at the top of every notebook, to get automatic reloading and inline plotting\n",
    "%reload_ext autoreload\n",
    "%autoreload 2\n",
    "%matplotlib inline"
   ]
  },
  {
   "cell_type": "code",
   "execution_count": null,
   "metadata": {},
   "outputs": [],
   "source": [
    "# setup CUDA_VISIBLE DEVICES for titan.sci.utah.edu\n",
    "import os\n",
    "os.environ[\"CUDA_VISIBLE_DEVICES\"] = \"1\"\n"
   ]
  },
  {
   "cell_type": "code",
   "execution_count": null,
   "metadata": {},
   "outputs": [],
   "source": [
    "#Import libraries\n",
    "\n",
    "from fastai.imports import *\n",
    "from fastai.conv_learner import *\n",
    "from fastai.transforms import *\n",
    "\n",
    "import numpy as np\n",
    "import pandas as pd\n",
    "import seaborn as sns"
   ]
  },
  {
   "cell_type": "markdown",
   "metadata": {},
   "source": [
    "## I/O and hyper parameters"
   ]
  },
  {
   "cell_type": "code",
   "execution_count": null,
   "metadata": {},
   "outputs": [],
   "source": [
    "# Parameters and hyper-parameters\n",
    "\n",
    "path = '~/Project_SEM/Project_TargetClass/Image_Classification'\n",
    "csv_all = os.path.join(os.getcwd(),'Dataset_ImageClassification_TargetClass_Filtered.csv')\n",
    "csv_analysis = os.path.join(os.getcwd(),'Dataset_ImageClassification_TargetClass_Filtered_All.csv')\n",
    "csv_analysis_fastai = os.path.join(os.getcwd(),'Dataset_ImageClassification_TargetClass_All_fastai.csv')\n",
    "# Network architecture\n",
    "arch = resnet50\n",
    "# Image size\n",
    "rsz = 400\n",
    "sz = 224\n",
    "# Batch size\n",
    "bs = 16\n",
    "# Default learning rate\n",
    "lr = 0.01"
   ]
  },
  {
   "cell_type": "markdown",
   "metadata": {
    "jupyter": {
     "outputs_hidden": true
    }
   },
   "source": [
    "## Dataset creation for specific analysis"
   ]
  },
  {
   "cell_type": "code",
   "execution_count": null,
   "metadata": {},
   "outputs": [],
   "source": [
    "# Read csv file and create dataframe\n",
    "df1 = pd.read_csv(csv_all, sep=',', parse_dates = ['AcquisitionDate'])\n",
    "#df['TargetClass'] = df['TargetClass'].astype(str)\n",
    "\n",
    "df1.shape"
   ]
  },
  {
   "cell_type": "code",
   "execution_count": null,
   "metadata": {},
   "outputs": [],
   "source": [
    "pd.value_counts(df1['TargetClass'])"
   ]
  },
  {
   "cell_type": "code",
   "execution_count": null,
   "metadata": {},
   "outputs": [],
   "source": [
    "# Filder dataset\n",
    "#Filter_List = ['Filter1','Filter2,'Filter3']\n",
    "\n",
    "# Create new dataframe\n",
    "#df2 = df1[df1['TargetClass'].isin(Filter_List)]\n",
    "df2 = df1\n",
    "df2.shape"
   ]
  },
  {
   "cell_type": "code",
   "execution_count": null,
   "metadata": {},
   "outputs": [],
   "source": [
    "pd.value_counts(df2['TargetClass'])"
   ]
  },
  {
   "cell_type": "code",
   "execution_count": null,
   "metadata": {},
   "outputs": [],
   "source": [
    "df2.head()"
   ]
  },
  {
   "cell_type": "code",
   "execution_count": null,
   "metadata": {},
   "outputs": [],
   "source": [
    "# Shuffle data for DL analysis\n",
    "df2 = df2.sample(frac=1, random_state = 1, replace = True)\n"
   ]
  },
  {
   "cell_type": "code",
   "execution_count": null,
   "metadata": {},
   "outputs": [],
   "source": [
    "# Save dataframe to CSV file (to be used for analysis)\n",
    "df2.to_csv(csv_analysis, index=False, na_rep = 'NA')"
   ]
  },
  {
   "cell_type": "code",
   "execution_count": null,
   "metadata": {},
   "outputs": [],
   "source": [
    "# Save dataframe to CSV file (to be used for fastai - Deep learning)\n",
    "# Keep only 2 columns: location, and dependent variable 'TargetClass'\n",
    "df2 = df2[['Location','TargetClass']]\n",
    "df2.to_csv(csv_analysis_fastai, index=False, na_rep = 'NA')"
   ]
  },
  {
   "cell_type": "markdown",
   "metadata": {},
   "source": [
    "## Dataset overview"
   ]
  },
  {
   "cell_type": "code",
   "execution_count": null,
   "metadata": {},
   "outputs": [],
   "source": [
    "# Read csv file and create dataframe\n",
    "df = pd.read_csv(csv_analysis, sep=',', parse_dates = ['AcquisitionDate'])\n",
    "\n",
    "# Shuffle dataframe\n",
    "#df = df.sample(frac=1, random_state = 1, replace = True)\n",
    "df.shape"
   ]
  },
  {
   "cell_type": "code",
   "execution_count": null,
   "metadata": {},
   "outputs": [],
   "source": [
    "df.iloc[0]['Location']"
   ]
  },
  {
   "cell_type": "code",
   "execution_count": null,
   "metadata": {},
   "outputs": [],
   "source": [
    "df.head()"
   ]
  },
  {
   "cell_type": "code",
   "execution_count": null,
   "metadata": {},
   "outputs": [],
   "source": [
    "df.groupby(['TargetClass']).size()"
   ]
  },
  {
   "cell_type": "code",
   "execution_count": null,
   "metadata": {},
   "outputs": [],
   "source": [
    "# Generate bar graph\n",
    "pd.value_counts(df['TargetClass']).sort_index().plot(kind='bar', title = 'TargetClass distribution')\n",
    "fig1 = plt.gcf()\n",
    "plt.tight_layout()\n",
    "plt.xticks(rotation='horizontal')\n",
    "fig1.savefig('BarGraph_Distribution_TargetClass-All.png')\n",
    "plt.show()"
   ]
  },
  {
   "cell_type": "code",
   "execution_count": null,
   "metadata": {},
   "outputs": [],
   "source": [
    "df.groupby(['Magnification']).size()"
   ]
  },
  {
   "cell_type": "code",
   "execution_count": null,
   "metadata": {},
   "outputs": [],
   "source": [
    "pd.value_counts(df['Magnification']).sort_index().plot(kind='bar', title = 'Magnification distribution')\n"
   ]
  },
  {
   "cell_type": "code",
   "execution_count": null,
   "metadata": {},
   "outputs": [],
   "source": [
    "g = sns.catplot(x=\"TargetClass\", y=\"Magnification\", kind=\"box\", legend=False, data=df);\n",
    "g.set_xticklabels(rotation=90)\n",
    "fig1 = plt.gcf()\n",
    "fig1.savefig('Magnification_by_Category_BoxPlot-All.png', bbox_inches=\"tight\")\n",
    "plt.show()"
   ]
  },
  {
   "cell_type": "code",
   "execution_count": null,
   "metadata": {},
   "outputs": [],
   "source": [
    "g = sns.catplot(x=\"TargetClass\", y=\"Magnification\", data=df, kind=\"swarm\");\n",
    "g.set_xticklabels(rotation=90)\n",
    "fig1 = plt.gcf()\n",
    "plt.tight_layout()\n",
    "plt.gcf().subplots_adjust(bottom=0.15)\n",
    "fig1.savefig('Magnification_by_Category_SwarmPlot-All.png', bbox_inches=\"tight\")\n",
    "plt.show()"
   ]
  },
  {
   "cell_type": "markdown",
   "metadata": {},
   "source": [
    "## Define validation dataset"
   ]
  },
  {
   "cell_type": "code",
   "execution_count": null,
   "metadata": {},
   "outputs": [],
   "source": [
    "# Generate validation ids\n",
    "n = len(df)\n",
    "print(\"Data length:\", n)\n",
    "# 20% validation split\n",
    "val_idxs = get_cv_idxs(n, val_pct=0.2, seed=0)\n",
    "#print(\"val_idxs:\",val_idxs)\n",
    "print(\"Validation length:\", len(val_idxs))"
   ]
  },
  {
   "cell_type": "code",
   "execution_count": null,
   "metadata": {},
   "outputs": [],
   "source": [
    "df_val = df.iloc[val_idxs,:]\n",
    "df_val.groupby(['TargetClass']).size()"
   ]
  },
  {
   "cell_type": "code",
   "execution_count": null,
   "metadata": {},
   "outputs": [],
   "source": [
    "pd.value_counts(df_val['TargetClass']).sort_index().plot(kind='bar', title = 'TargetClass distribution - Validation dataset')"
   ]
  },
  {
   "cell_type": "markdown",
   "metadata": {},
   "source": [
    "## Deep Learning analysis"
   ]
  },
  {
   "cell_type": "code",
   "execution_count": null,
   "metadata": {},
   "outputs": [],
   "source": [
    "# Data augmentation\n",
    "transforms = [RandomRotate(5), RandomLighting(0.05, 0.05), RandomDihedral()]"
   ]
  },
  {
   "cell_type": "code",
   "execution_count": null,
   "metadata": {},
   "outputs": [],
   "source": [
    "def get_data(rsz):\n",
    "    tfms = tfms_from_model(arch,sz,aug_tfms=transforms, crop_type=CropType.RANDOM, max_zoom=1.0)\n",
    "    return ImageClassifierData.from_csv(path,'data', csv_analysis_fastai, bs=bs, tfms=tfms, val_idxs=val_idxs, suffix='', test_name='', skip_header=True, num_workers=0)\n"
   ]
  },
  {
   "cell_type": "markdown",
   "metadata": {},
   "source": [
    "### Check data augmentation"
   ]
  },
  {
   "cell_type": "code",
   "execution_count": null,
   "metadata": {},
   "outputs": [],
   "source": [
    "data = get_data(sz)"
   ]
  },
  {
   "cell_type": "code",
   "execution_count": null,
   "metadata": {},
   "outputs": [],
   "source": [
    "#data = data.resize(rsz, 'tmp')"
   ]
  },
  {
   "cell_type": "code",
   "execution_count": null,
   "metadata": {},
   "outputs": [],
   "source": [
    "# Validation dataset\n",
    "list_val = iter(data.val_dl)\n"
   ]
  },
  {
   "cell_type": "code",
   "execution_count": null,
   "metadata": {},
   "outputs": [],
   "source": [
    "x,y=next(list_val)\n",
    "idx=0\n",
    "\n",
    "fig,axes = plt.subplots(3,3, figsize=(12,12))\n",
    "for i,ax in enumerate(axes.flat):\n",
    "    ima=data.val_ds.denorm(x)[i]\n",
    "    ax.set_title(data.classes[y[i]])\n",
    "    ax.imshow(ima)"
   ]
  },
  {
   "cell_type": "code",
   "execution_count": null,
   "metadata": {},
   "outputs": [],
   "source": [
    "#Training dataset\n",
    "list_trn = iter(data.trn_dl)"
   ]
  },
  {
   "cell_type": "code",
   "execution_count": null,
   "metadata": {},
   "outputs": [],
   "source": [
    "x,y=next(list_trn)\n",
    "idx=0\n",
    "\n",
    "fig,axes = plt.subplots(3,3, figsize=(12,12))\n",
    "for i,ax in enumerate(axes.flat):\n",
    "    ima=data.trn_ds.denorm(x)[i]\n",
    "    ax.set_title(data.classes[y[i]])\n",
    "    ax.imshow(ima)"
   ]
  },
  {
   "cell_type": "code",
   "execution_count": null,
   "metadata": {},
   "outputs": [],
   "source": []
  },
  {
   "cell_type": "markdown",
   "metadata": {},
   "source": [
    "### Network"
   ]
  },
  {
   "cell_type": "code",
   "execution_count": null,
   "metadata": {},
   "outputs": [],
   "source": [
    "# Main commands to load data and model\n",
    "learn = ConvLearner.pretrained(arch, data, precompute=False, pretrained=True, ps=[0.25,0.5])\n"
   ]
  },
  {
   "cell_type": "code",
   "execution_count": null,
   "metadata": {},
   "outputs": [],
   "source": [
    "learn"
   ]
  },
  {
   "cell_type": "code",
   "execution_count": null,
   "metadata": {},
   "outputs": [],
   "source": [
    "# Find automated learning rate\n",
    "lrf = learn.lr_find(end_lr=10)"
   ]
  },
  {
   "cell_type": "code",
   "execution_count": null,
   "metadata": {},
   "outputs": [],
   "source": [
    "learn.sched.plot_lr()"
   ]
  },
  {
   "cell_type": "code",
   "execution_count": null,
   "metadata": {},
   "outputs": [],
   "source": [
    "learn.sched.plot(n_skip=2)"
   ]
  },
  {
   "cell_type": "code",
   "execution_count": null,
   "metadata": {},
   "outputs": [],
   "source": [
    "lr = 5e-3"
   ]
  },
  {
   "cell_type": "code",
   "execution_count": null,
   "metadata": {},
   "outputs": [],
   "source": [
    "learn.fit(lr,5)"
   ]
  },
  {
   "cell_type": "code",
   "execution_count": null,
   "metadata": {},
   "outputs": [],
   "source": [
    "learn.fit(lr,10, cycle_len=1)"
   ]
  },
  {
   "cell_type": "code",
   "execution_count": null,
   "metadata": {},
   "outputs": [],
   "source": [
    "learn.sched.plot_lr()"
   ]
  },
  {
   "cell_type": "code",
   "execution_count": null,
   "metadata": {},
   "outputs": [],
   "source": [
    "learn.sched.plot_loss()"
   ]
  },
  {
   "cell_type": "code",
   "execution_count": null,
   "metadata": {},
   "outputs": [],
   "source": [
    "learn.save('224_lastlayer_resnet50_TargetClass_All')"
   ]
  },
  {
   "cell_type": "code",
   "execution_count": null,
   "metadata": {},
   "outputs": [],
   "source": [
    "learn.load('224_lastlayer_resnet50_TargetClass_All')"
   ]
  },
  {
   "cell_type": "code",
   "execution_count": null,
   "metadata": {},
   "outputs": [],
   "source": [
    "learn.unfreeze()\n",
    "lrs=np.array([lr/9,lr/3,lr])"
   ]
  },
  {
   "cell_type": "code",
   "execution_count": null,
   "metadata": {},
   "outputs": [],
   "source": [
    "lrf = learn.lr_find()"
   ]
  },
  {
   "cell_type": "code",
   "execution_count": null,
   "metadata": {},
   "outputs": [],
   "source": [
    "learn.sched.plot_lr()"
   ]
  },
  {
   "cell_type": "code",
   "execution_count": null,
   "metadata": {},
   "outputs": [],
   "source": [
    "learn.sched.plot()"
   ]
  },
  {
   "cell_type": "code",
   "execution_count": null,
   "metadata": {},
   "outputs": [],
   "source": [
    "lr=5e-4\n",
    "lrs=np.array([lr/9,lr/3,lr])\n",
    "learn.fit(lrs, 5, cycle_len=1, cycle_mult=2)"
   ]
  },
  {
   "cell_type": "code",
   "execution_count": null,
   "metadata": {},
   "outputs": [],
   "source": [
    "learn.sched.plot_lr()"
   ]
  },
  {
   "cell_type": "code",
   "execution_count": null,
   "metadata": {},
   "outputs": [],
   "source": [
    "learn.sched.plot_loss()"
   ]
  },
  {
   "cell_type": "code",
   "execution_count": null,
   "metadata": {},
   "outputs": [],
   "source": [
    "learn.save('224_all_resnet50_TargetClass_All')"
   ]
  },
  {
   "cell_type": "code",
   "execution_count": null,
   "metadata": {},
   "outputs": [],
   "source": [
    "learn.load('224_all_resnet50_TargetClass_All')"
   ]
  },
  {
   "cell_type": "markdown",
   "metadata": {},
   "source": [
    "## Inference"
   ]
  },
  {
   "cell_type": "code",
   "execution_count": null,
   "metadata": {},
   "outputs": [],
   "source": [
    "#Inference on validation data\n",
    "log_preds,y = learn.TTA()\n",
    "probs = np.mean(np.exp(log_preds),0)\n",
    "\n",
    "accuracy_np(probs,y)"
   ]
  },
  {
   "cell_type": "code",
   "execution_count": null,
   "metadata": {},
   "outputs": [],
   "source": [
    "# Confusion matrix\n",
    "from sklearn.metrics import confusion_matrix\n",
    "from fastai.plots import *\n",
    "y_pred = np.argmax(probs,1)\n",
    "cm = confusion_matrix(y,y_pred)\n",
    "plot_confusion_matrix(cm, data.classes)\n",
    "fig1 = plt.gcf()\n",
    "plt.tight_layout()\n",
    "fig1.savefig('ConfusionMatrix_TargetClass_All.png')\n",
    "plt.show()"
   ]
  },
  {
   "cell_type": "code",
   "execution_count": null,
   "metadata": {},
   "outputs": [],
   "source": [
    "from sklearn.metrics import f1_score\n",
    "print(f1_score(y, y_pred, average=None))\n",
    "print(f1_score(y, y_pred, average='micro'))\n",
    "print(f1_score(y, y_pred, average='macro'))\n",
    "print(f1_score(y, y_pred, average='weighted'))"
   ]
  },
  {
   "cell_type": "code",
   "execution_count": null,
   "metadata": {},
   "outputs": [],
   "source": [
    "from sklearn.metrics import classification_report\n",
    "print(classification_report(y, y_pred, target_names=data.classes))"
   ]
  },
  {
   "cell_type": "code",
   "execution_count": null,
   "metadata": {},
   "outputs": [],
   "source": []
  },
  {
   "cell_type": "markdown",
   "metadata": {
    "jupyter": {
     "outputs_hidden": true
    }
   },
   "source": [
    "### Exploratory analysis - variable size / shape information"
   ]
  },
  {
   "cell_type": "code",
   "execution_count": null,
   "metadata": {},
   "outputs": [],
   "source": [
    "data.classes"
   ]
  },
  {
   "cell_type": "code",
   "execution_count": null,
   "metadata": {},
   "outputs": [],
   "source": [
    "# Validation size: 340 images\n",
    "y.shape"
   ]
  },
  {
   "cell_type": "code",
   "execution_count": null,
   "metadata": {},
   "outputs": [],
   "source": [
    "# Predictions shape: \n",
    "# - dimension 1: 5 TTA images ( 1 main image + 4 augmented)\n",
    "# - dimension 2: 340 validation images\n",
    "# - dimension 3: 5 classes\n",
    "log_preds.shape"
   ]
  },
  {
   "cell_type": "code",
   "execution_count": null,
   "metadata": {},
   "outputs": [],
   "source": [
    "log_preds[0].shape"
   ]
  },
  {
   "cell_type": "code",
   "execution_count": null,
   "metadata": {},
   "outputs": [],
   "source": [
    "np.exp(log_preds[0])\n"
   ]
  },
  {
   "cell_type": "code",
   "execution_count": null,
   "metadata": {},
   "outputs": [],
   "source": [
    "probs_0 = np.mean(np.exp(log_preds[0]),0)\n",
    "probs_0"
   ]
  },
  {
   "cell_type": "code",
   "execution_count": null,
   "metadata": {},
   "outputs": [],
   "source": [
    "np.argmax(probs[0],0)"
   ]
  },
  {
   "cell_type": "code",
   "execution_count": null,
   "metadata": {},
   "outputs": [],
   "source": [
    "y[0]"
   ]
  },
  {
   "cell_type": "markdown",
   "metadata": {},
   "source": [
    "### Quality Control"
   ]
  },
  {
   "cell_type": "code",
   "execution_count": null,
   "metadata": {},
   "outputs": [],
   "source": [
    "y_pred = np.argmax(probs,1)\n",
    "y_pred"
   ]
  },
  {
   "cell_type": "code",
   "execution_count": null,
   "metadata": {},
   "outputs": [],
   "source": [
    "y"
   ]
  },
  {
   "cell_type": "code",
   "execution_count": null,
   "metadata": {},
   "outputs": [],
   "source": [
    "# Number of element for Quality control\n",
    "Nb_elements = 4\n"
   ]
  },
  {
   "cell_type": "code",
   "execution_count": null,
   "metadata": {},
   "outputs": [],
   "source": [
    "\n",
    "def Retrieve_CorrectIndices(TrueLabel, PredictedLabel, ClassNb):\n",
    "    # Array of correct predictions\n",
    "    Index_equal = np.equal(TrueLabel, PredictedLabel)\n",
    "    # Array corresponding to ClassNb of Interest\n",
    "    TrueLabel_ClassNb = np.equal(TrueLabel, ClassNb)\n",
    "    # Logical Operator AND\n",
    "    Output_AND = np.logical_and(Index_equal, TrueLabel_ClassNb)\n",
    "    # Return list of indices where value = True\n",
    "    Output = np.where(Output_AND == True)[0]\n",
    "    # Return 5 random indices only\n",
    "    Output_rand = np.random.choice(Output, Nb_elements, replace=False)\n",
    "    \n",
    "    #print('Index_equal',Index_equal)\n",
    "    #print('TrueLabel_ClassNb',TrueLabel_ClassNb)\n",
    "    #print('Output_AND',Output_AND)\n",
    "    #print('Output',Output)\n",
    "    #print('Output_rand',Output_rand)\n",
    "    \n",
    "    return Output_rand\n",
    "    \n",
    "    \n",
    "    "
   ]
  },
  {
   "cell_type": "code",
   "execution_count": null,
   "metadata": {},
   "outputs": [],
   "source": [
    "Retrieve_CorrectIndices(y,y_pred,0)"
   ]
  },
  {
   "cell_type": "code",
   "execution_count": null,
   "metadata": {},
   "outputs": [],
   "source": [
    "def Retrieve_InCorrectIndices(TrueLabel, PredictedLabel, ClassNb):\n",
    "    # Array of correct predictions\n",
    "    Index_notequal = np.not_equal(TrueLabel, PredictedLabel)\n",
    "    # Array corresponding to ClassNb of Interest\n",
    "    TrueLabel_ClassNb = np.equal(TrueLabel, ClassNb)\n",
    "    # Logical Operator AND\n",
    "    Output_AND = np.logical_and(Index_notequal, TrueLabel_ClassNb)\n",
    "    # Return list of indices where value = True\n",
    "    Output = np.where(Output_AND == True)[0]\n",
    "    # Return 5 random indices only\n",
    "    Output_rand = np.random.choice(Output, Nb_elements, replace=False)\n",
    "    \n",
    "    #print('Index_notequal',Index_notequal)\n",
    "    #print('TrueLabel_ClassNb',TrueLabel_ClassNb)\n",
    "    #print('Output_AND',Output_AND)\n",
    "    #print('Output',Output)\n",
    "    #print('Output_rand',Output_rand)\n",
    "    \n",
    "    return Output_rand"
   ]
  },
  {
   "cell_type": "code",
   "execution_count": null,
   "metadata": {},
   "outputs": [],
   "source": [
    "Retrieve_InCorrectIndices(y,y_pred,0)"
   ]
  },
  {
   "cell_type": "code",
   "execution_count": null,
   "metadata": {},
   "outputs": [],
   "source": [
    "# Inputs: idxs- list of 5 random indices, plot title\n",
    "def plot_Clem(idxs, title):\n",
    "    print(title)\n",
    "    #print(idxs)\n",
    "    #title_probs = [y_pred[x] for x in idxs]\n",
    "    #print(title_probs)\n",
    "    fig,axes = plt.subplots(1,Nb_elements, figsize=(20,20))\n",
    "    for i,ax in enumerate(axes.flat):\n",
    "        idx = idxs[i]\n",
    "        plot_title = data.classes[y_pred[idx]]\n",
    "        ima=open_image(df.at[idx,\"Location\"])\n",
    "        ax.set_title(plot_title)\n",
    "        ax.imshow(ima)"
   ]
  },
  {
   "cell_type": "code",
   "execution_count": null,
   "metadata": {},
   "outputs": [],
   "source": [
    "ClassNb = 0\n",
    "title = 'Correctly classified - Class ' + data.classes[ClassNb]\n",
    "plot_Clem(Retrieve_CorrectIndices(y,y_pred,ClassNb), title)"
   ]
  },
  {
   "cell_type": "code",
   "execution_count": null,
   "metadata": {},
   "outputs": [],
   "source": [
    "ClassNb = 0\n",
    "title = 'Incorrectly classified - Class ' + data.classes[ClassNb]\n",
    "plot_Clem(Retrieve_InCorrectIndices(y,y_pred,ClassNb), title)"
   ]
  },
  {
   "cell_type": "code",
   "execution_count": null,
   "metadata": {},
   "outputs": [],
   "source": [
    "ClassNb = 1\n",
    "title = 'Correctly classified - Class ' + data.classes[ClassNb]\n",
    "plot_Clem(Retrieve_CorrectIndices(y,y_pred,ClassNb), title)"
   ]
  },
  {
   "cell_type": "code",
   "execution_count": null,
   "metadata": {},
   "outputs": [],
   "source": [
    "ClassNb = 1\n",
    "title = 'Incorrectly classified - Class ' + data.classes[ClassNb]\n",
    "plot_Clem(Retrieve_InCorrectIndices(y,y_pred,ClassNb), title)"
   ]
  },
  {
   "cell_type": "code",
   "execution_count": null,
   "metadata": {},
   "outputs": [],
   "source": [
    "ClassNb = 2\n",
    "title = 'Correctly classified - Class ' + data.classes[ClassNb]\n",
    "plot_Clem(Retrieve_CorrectIndices(y,y_pred,ClassNb), title)"
   ]
  },
  {
   "cell_type": "code",
   "execution_count": null,
   "metadata": {},
   "outputs": [],
   "source": [
    "ClassNb = 2\n",
    "title = 'Incorrectly classified - Class ' + data.classes[ClassNb]\n",
    "plot_Clem(Retrieve_InCorrectIndices(y,y_pred,ClassNb), title)"
   ]
  },
  {
   "cell_type": "code",
   "execution_count": null,
   "metadata": {},
   "outputs": [],
   "source": [
    "ClassNb = 3\n",
    "title = 'Correctly classified - Class ' + data.classes[ClassNb]\n",
    "plot_Clem(Retrieve_CorrectIndices(y,y_pred,ClassNb), title)"
   ]
  },
  {
   "cell_type": "code",
   "execution_count": null,
   "metadata": {},
   "outputs": [],
   "source": [
    "ClassNb = 4\n",
    "title = 'Correctly classified - Class ' + data.classes[ClassNb]\n",
    "plot_Clem(Retrieve_CorrectIndices(y,y_pred,ClassNb), title)"
   ]
  },
  {
   "cell_type": "code",
   "execution_count": null,
   "metadata": {},
   "outputs": [],
   "source": []
  }
 ],
 "metadata": {
  "kernelspec": {
   "display_name": "Python 3 (ipykernel)",
   "language": "python",
   "name": "python3"
  },
  "language_info": {
   "codemirror_mode": {
    "name": "ipython",
    "version": 3
   },
   "file_extension": ".py",
   "mimetype": "text/x-python",
   "name": "python",
   "nbconvert_exporter": "python",
   "pygments_lexer": "ipython3",
   "version": "3.10.13"
  },
  "toc": {
   "colors": {
    "hover_highlight": "#DAA520",
    "navigate_num": "#000000",
    "navigate_text": "#333333",
    "running_highlight": "#FF0000",
    "selected_highlight": "#FFD700",
    "sidebar_border": "#EEEEEE",
    "wrapper_background": "#FFFFFF"
   },
   "moveMenuLeft": true,
   "nav_menu": {
    "height": "266px",
    "width": "252px"
   },
   "navigate_menu": true,
   "number_sections": true,
   "sideBar": true,
   "threshold": 4,
   "toc_cell": false,
   "toc_section_display": "block",
   "toc_window_display": false,
   "widenNotebook": false
  }
 },
 "nbformat": 4,
 "nbformat_minor": 4
}
