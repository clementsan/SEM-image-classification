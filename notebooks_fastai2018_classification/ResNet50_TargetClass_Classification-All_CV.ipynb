{
 "cells": [
  {
   "cell_type": "markdown",
   "metadata": {},
   "source": [
    "# ResNet50 - multi classification - all data with K-fold"
   ]
  },
  {
   "cell_type": "code",
   "execution_count": null,
   "metadata": {},
   "outputs": [],
   "source": [
    "# Put these at the top of every notebook, to get automatic reloading and inline plotting\n",
    "%reload_ext autoreload\n",
    "%autoreload 2\n",
    "%matplotlib inline"
   ]
  },
  {
   "cell_type": "code",
   "execution_count": null,
   "metadata": {},
   "outputs": [],
   "source": [
    "# setup CUDA_VISIBLE DEVICES for titan.sci.utah.edu\n",
    "import os\n",
    "os.environ[\"CUDA_VISIBLE_DEVICES\"] = \"1\"\n"
   ]
  },
  {
   "cell_type": "code",
   "execution_count": null,
   "metadata": {},
   "outputs": [],
   "source": [
    "# This file contains all the main external libs we'll use\n",
    "from fastai.imports import *\n",
    "\n",
    "#from fastai.transforms import *\n",
    "from fastai.conv_learner import *\n",
    "#from fastai.model import *\n",
    "#from fastai.dataset import *\n",
    "#from fastai.sgdr import *\n",
    "#from fastai.plots import *\n",
    "\n",
    "import pandas as pd\n",
    "import numpy as np\n",
    "\n",
    "from sklearn.model_selection import KFold, ShuffleSplit, StratifiedKFold\n",
    "\n",
    "# Confusion matrix\n",
    "from sklearn.metrics import confusion_matrix\n",
    "from fastai.plots import *\n",
    "\n",
    "# classification report\n",
    "from sklearn.metrics import classification_report"
   ]
  },
  {
   "cell_type": "code",
   "execution_count": null,
   "metadata": {},
   "outputs": [],
   "source": [
    "# Parameters and hyper-parameters\n",
    "\n",
    "PATH = '~/Project_SEM/Project_TargetClass//scripts_notebooks_All_CV'\n",
    "csv_all = os.path.join(PATH,'Dataset_ImageClassification_TargetClass_Filtered.csv')\n",
    "#csv_analysis = os.path.join(os.getcwd(),'Dataset_ImageClassification_TargetClass_Filtered_All.csv')\n",
    "csv_analysis_fastai = os.path.join(PATH,'Dataset_ImageClassification_TargetClass_Filtered_All_fastai.csv')\n",
    "# Network architecture\n",
    "arch = resnet50\n",
    "# Image size\n",
    "rsz = 400\n",
    "sz = 224\n",
    "# Batch size\n",
    "bs = 16\n",
    "# Default learning rate\n",
    "lr = 0.01"
   ]
  },
  {
   "cell_type": "markdown",
   "metadata": {},
   "source": [
    "## Dataset creation for specific analysis"
   ]
  },
  {
   "cell_type": "code",
   "execution_count": null,
   "metadata": {},
   "outputs": [],
   "source": [
    "# Read csv file and create dataframe\n",
    "df1 = pd.read_csv(csv_all, sep=',', parse_dates = ['AcquisitionDate'])\n",
    "#df['TargetClass'] = df['TargetClass'].astype(str)\n",
    "\n",
    "df1.shape\n"
   ]
  },
  {
   "cell_type": "code",
   "execution_count": null,
   "metadata": {},
   "outputs": [],
   "source": [
    "pd.value_counts(df1['TargetClass'])"
   ]
  },
  {
   "cell_type": "code",
   "execution_count": null,
   "metadata": {},
   "outputs": [],
   "source": [
    "# Filder dataset\n",
    "#Filter_List = ['Filter1','Filter2','Filter3']\n",
    "\n",
    "# Create new dataframe\n",
    "#df2 = df1[df1['TargetClass'].isin(Filter_List)]\n",
    "#df2.shape\n",
    "df2 = df1"
   ]
  },
  {
   "cell_type": "code",
   "execution_count": null,
   "metadata": {},
   "outputs": [],
   "source": [
    "pd.value_counts(df2['TargetClass'])"
   ]
  },
  {
   "cell_type": "code",
   "execution_count": null,
   "metadata": {},
   "outputs": [],
   "source": [
    "# Save dataframe to CSV file (to be used for fastai - Deep learning)\n",
    "# Keep only 2 columns: location, and dependent variable 'TargetClass'\n",
    "df2 = df2[['Location','TargetClass']]\n",
    "\n",
    "# Shuffle dataset\n",
    "from sklearn.utils import shuffle\n",
    "df2 = shuffle(df2, random_state = 1)\n",
    "\n",
    "df2.to_csv(csv_analysis_fastai, index=False, na_rep = 'NA')"
   ]
  },
  {
   "cell_type": "code",
   "execution_count": null,
   "metadata": {},
   "outputs": [],
   "source": [
    "pd.value_counts(df2['TargetClass']).sort_index().plot(kind='bar', title = 'TargetClass distribution - Full dataset')"
   ]
  },
  {
   "cell_type": "markdown",
   "metadata": {},
   "source": [
    "## Learning rate assesment"
   ]
  },
  {
   "cell_type": "code",
   "execution_count": null,
   "metadata": {},
   "outputs": [],
   "source": [
    "#label_csv = os.path.join(os.getcwd(),'Dataset_ImageClassification_TargetClass_Filtered1.csv')\n",
    "n = len(list(open(csv_analysis_fastai)))-1\n",
    "# Return validation indexes using a 10% split\n",
    "val_idxs = get_cv_idxs(n,val_pct=0.2)\n",
    "print('n:',n)\n",
    "print('Nb val_idxs',len(val_idxs))\n",
    "print('val_idxs',val_idxs)"
   ]
  },
  {
   "cell_type": "code",
   "execution_count": null,
   "metadata": {},
   "outputs": [],
   "source": [
    "label_df = pd.read_csv(csv_analysis_fastai)\n",
    "label_df.head()"
   ]
  },
  {
   "cell_type": "code",
   "execution_count": null,
   "metadata": {},
   "outputs": [],
   "source": [
    "# Data augmentation\n",
    "transforms = [RandomRotate(5), RandomLighting(0.05, 0.05), RandomDihedral()]"
   ]
  },
  {
   "cell_type": "code",
   "execution_count": null,
   "metadata": {},
   "outputs": [],
   "source": [
    "tfms = tfms_from_model(arch,sz,aug_tfms=transforms, crop_type=CropType.RANDOM, max_zoom=1.0)\n",
    "data = ImageClassifierData.from_csv(PATH,'data', csv_analysis_fastai, bs=bs, tfms=tfms, val_idxs=val_idxs, suffix='', test_name='', skip_header=True, num_workers=0)\n",
    "learn = ConvLearner.pretrained(arch, data, precompute=False, pretrained=True, ps=[0.25,0.5])"
   ]
  },
  {
   "cell_type": "code",
   "execution_count": null,
   "metadata": {},
   "outputs": [],
   "source": [
    "lrf=learn.lr_find()"
   ]
  },
  {
   "cell_type": "code",
   "execution_count": null,
   "metadata": {},
   "outputs": [],
   "source": [
    "learn.sched.plot_lr()"
   ]
  },
  {
   "cell_type": "code",
   "execution_count": null,
   "metadata": {},
   "outputs": [],
   "source": [
    "learn.sched.plot()"
   ]
  },
  {
   "cell_type": "code",
   "execution_count": null,
   "metadata": {},
   "outputs": [],
   "source": [
    "lr = 5e-3\n",
    "\n",
    "TTA_Accuracies = []\n",
    "CM_Array = []\n",
    "Report_Array = []\n",
    "KFold_Iteration = 0\n",
    "\n",
    "# K-fold cross validation\n",
    "kf = KFold(n_splits=5, shuffle=True, random_state = 1)\n",
    "\n",
    "for train_index, val_index in kf.split(label_df.index):\n",
    "    print(\"\\n\\nKFold_Iteration\", KFold_Iteration)\n",
    "    #print(\"\\ntrain_index\",train_index)\n",
    "    #print(\"val_index\",val_index)\n",
    "    print(\"Length validation dataset: \", len(val_index))\n",
    "    \n",
    "    tfms = tfms_from_model(arch,sz,aug_tfms=transforms, crop_type=CropType.RANDOM, max_zoom=1.0)\n",
    "    data = ImageClassifierData.from_csv(PATH,'data', csv_analysis_fastai, bs=bs, tfms=tfms, val_idxs=val_index, suffix='', test_name='', skip_header=True, num_workers=0)\n",
    "    learn = ConvLearner.pretrained(arch, data, precompute=False, pretrained=True, ps=[0.25,0.5])\n",
    "    \n",
    "    print(\"Optimizing Last layer only...\")\n",
    "    lr = 5e-3\n",
    "    learn.fit(lr, 5)\n",
    "    #learn.precompute=False\n",
    "    learn.fit(lr, 10, cycle_len=1)\n",
    "    print(\"\\nOptimizing full model...\")\n",
    "    learn.unfreeze()\n",
    "    lr = 5e-4\n",
    "    lrs=np.array([lr/9,lr/3,lr])\n",
    "    learn.fit(lrs, 5, cycle_len=1, cycle_mult=2)\n",
    "    \n",
    "    print(\"TTA inference...\")\n",
    "    log_preds,y = learn.TTA()\n",
    "    probs = np.mean(np.exp(log_preds),0)\n",
    "    Accuracy = accuracy_np(probs,y)\n",
    "    print(\"Accuracy: \", Accuracy)\n",
    "    TTA_Accuracies.append(Accuracy)\n",
    "    \n",
    "    print(\" Confusion Matrix...\")\n",
    "    y_pred = np.argmax(probs,1)\n",
    "    cm = confusion_matrix(y,y_pred)\n",
    "    plot_confusion_matrix(cm, data.classes)\n",
    "    CM_Array.append(cm)\n",
    "    \n",
    "    print(\" Classification Report...\")\n",
    "    Report = classification_report(y, y_pred, target_names=data.classes,output_dict=True)\n",
    "    print(Report)\n",
    "    Report_Array.append(Report)\n",
    "    \n",
    "    KFold_Iteration += 1\n"
   ]
  },
  {
   "cell_type": "code",
   "execution_count": null,
   "metadata": {},
   "outputs": [],
   "source": [
    "print(\"\\nResults overview\")\n",
    "TTA_Inference_avg = np.average(TTA_Accuracies)\n",
    "TTA_Inference_std = np.std(TTA_Accuracies)\n",
    "print(\"TTA_Inference_avg\",TTA_Inference_avg)\n",
    "print(\"TTA_Inference_std\",TTA_Inference_std)\n"
   ]
  },
  {
   "cell_type": "code",
   "execution_count": null,
   "metadata": {},
   "outputs": [],
   "source": [
    "learn"
   ]
  },
  {
   "cell_type": "code",
   "execution_count": null,
   "metadata": {},
   "outputs": [],
   "source": [
    "CM_final = CM_Array[0] + CM_Array[1] + CM_Array[2] + CM_Array[3] + CM_Array[4]"
   ]
  },
  {
   "cell_type": "code",
   "execution_count": null,
   "metadata": {},
   "outputs": [],
   "source": [
    "plot_confusion_matrix(CM_final, data.classes)\n",
    "fig1 = plt.gcf()\n",
    "plt.tight_layout()\n",
    "fig1.savefig('ConfusionMatrix-Total_TargetClass_All_CV.png')\n",
    "plt.show()"
   ]
  },
  {
   "cell_type": "code",
   "execution_count": null,
   "metadata": {},
   "outputs": [],
   "source": [
    "print(Report_Array[0])"
   ]
  },
  {
   "cell_type": "code",
   "execution_count": null,
   "metadata": {},
   "outputs": [],
   "source": [
    "print(Report_Array)\n"
   ]
  },
  {
   "cell_type": "code",
   "execution_count": null,
   "metadata": {},
   "outputs": [],
   "source": []
  }
 ],
 "metadata": {
  "kernelspec": {
   "display_name": "Python 3 (ipykernel)",
   "language": "python",
   "name": "python3"
  },
  "language_info": {
   "codemirror_mode": {
    "name": "ipython",
    "version": 3
   },
   "file_extension": ".py",
   "mimetype": "text/x-python",
   "name": "python",
   "nbconvert_exporter": "python",
   "pygments_lexer": "ipython3",
   "version": "3.10.13"
  },
  "toc": {
   "colors": {
    "hover_highlight": "#DAA520",
    "navigate_num": "#000000",
    "navigate_text": "#333333",
    "running_highlight": "#FF0000",
    "selected_highlight": "#FFD700",
    "sidebar_border": "#EEEEEE",
    "wrapper_background": "#FFFFFF"
   },
   "moveMenuLeft": true,
   "nav_menu": {
    "height": "266px",
    "width": "252px"
   },
   "navigate_menu": true,
   "number_sections": true,
   "sideBar": true,
   "threshold": 4,
   "toc_cell": false,
   "toc_section_display": "block",
   "toc_window_display": false,
   "widenNotebook": false
  }
 },
 "nbformat": 4,
 "nbformat_minor": 4
}
