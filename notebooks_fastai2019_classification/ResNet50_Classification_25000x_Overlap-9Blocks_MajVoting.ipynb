{
 "cells": [
  {
   "cell_type": "markdown",
   "metadata": {},
   "source": [
    "## Image classification - ResNet50 - 25,000x - with MajVoting - overlap 9blocks"
   ]
  },
  {
   "cell_type": "markdown",
   "metadata": {},
   "source": [
    "## Import libraries"
   ]
  },
  {
   "cell_type": "code",
   "execution_count": null,
   "metadata": {},
   "outputs": [],
   "source": [
    "# Put these at the top of every notebook, to get automatic reloading and inline plotting\n",
    "%reload_ext autoreload\n",
    "%autoreload 2\n",
    "%matplotlib inline"
   ]
  },
  {
   "cell_type": "code",
   "execution_count": null,
   "metadata": {},
   "outputs": [],
   "source": [
    "# setup CUDA_VISIBLE DEVICES for titan.sci.utah.edu\n",
    "import os\n",
    "os.environ[\"CUDA_VISIBLE_DEVICES\"] = \"2\"\n"
   ]
  },
  {
   "cell_type": "code",
   "execution_count": null,
   "metadata": {},
   "outputs": [],
   "source": [
    "#Import libraries\n",
    "\n",
    "from fastai.imports import *\n",
    "from fastai.conv_learner import *\n",
    "from fastai.transforms import *\n",
    "\n",
    "import numpy as np\n",
    "import pandas as pd\n",
    "import seaborn as sns"
   ]
  },
  {
   "cell_type": "markdown",
   "metadata": {},
   "source": [
    "## I/O and hyper parameters"
   ]
  },
  {
   "cell_type": "code",
   "execution_count": null,
   "metadata": {},
   "outputs": [],
   "source": [
    "# Parameters and hyper-parameters\n",
    "\n",
    "path = '~/Project_SEM/Project_TargetClass/scripts_notebooks/'\n",
    "csv_all = os.path.join(os.getcwd(),'Dataset_ImageClassification_TargetClass_Overlap-9Blocks.csv')\n",
    "csv_analysis_fastai = os.path.join(os.getcwd(),'Dataset_ImageClassification_TargetClass_25000x_Overlap-9Blocks_fastai.csv')\n",
    "# Network architecture\n",
    "arch = resnet50\n",
    "# Image size\n",
    "rsz = 400\n",
    "sz = 224\n",
    "# Batch size\n",
    "bs = 32\n",
    "# Default learning rate\n",
    "lr = 0.01"
   ]
  },
  {
   "cell_type": "markdown",
   "metadata": {},
   "source": [
    "## Dataset overview"
   ]
  },
  {
   "cell_type": "code",
   "execution_count": null,
   "metadata": {},
   "outputs": [],
   "source": [
    "# Read csv file and create dataframe\n",
    "df1 = pd.read_csv(csv_all, sep=',', parse_dates = ['AcquisitionDate'])\n",
    "\n",
    "df1.shape"
   ]
  },
  {
   "cell_type": "code",
   "execution_count": null,
   "metadata": {},
   "outputs": [],
   "source": [
    "df1.head()"
   ]
  },
  {
   "cell_type": "code",
   "execution_count": null,
   "metadata": {},
   "outputs": [],
   "source": [
    "df1.groupby(['StartingMaterial']).size()"
   ]
  },
  {
   "cell_type": "code",
   "execution_count": null,
   "metadata": {},
   "outputs": [],
   "source": [
    "# Filder dataset\n",
    "Filter_List = ['25000x']\n",
    "\n",
    "# Create new dataframe\n",
    "df2 = df1[df1['Magnification'].isin(Filter_List)]\n",
    "#df2 = df1\n",
    "print(df2.shape)"
   ]
  },
  {
   "cell_type": "code",
   "execution_count": null,
   "metadata": {},
   "outputs": [],
   "source": [
    "print(pd.value_counts(df2['StartingMaterial']))"
   ]
  },
  {
   "cell_type": "code",
   "execution_count": null,
   "metadata": {},
   "outputs": [],
   "source": [
    "# Retrieve individual ImageNb\n",
    "df2['ImageNb'] = df2['Location'].apply(lambda x: x.split('_')[-4])\n",
    "df2 = df2.astype({\"ImageNb\": str})\n",
    "# Create individual acquisition\n",
    "df2['Acquisition'] = df2[['Material','StartingMaterial','Magnification','ImageNb']].apply(lambda x: '_'.join(x), axis=1)\n",
    "df2.head()"
   ]
  },
  {
   "cell_type": "code",
   "execution_count": null,
   "metadata": {},
   "outputs": [],
   "source": [
    "# Define distinct classification Label\n",
    "df2['Label'] = df2[['Material','StartingMaterial']].apply(lambda x: 'from'.join(x), axis=1)\n"
   ]
  },
  {
   "cell_type": "code",
   "execution_count": null,
   "metadata": {},
   "outputs": [],
   "source": [
    "# Save dataframe to CSV file (to be used for fastai - Deep learning)\n",
    "# Keep only 2 columns: location, and dependent variable 'Label'\n",
    "df2 = df2[['Location','Label','Acquisition']]\n",
    "\n",
    "# Shuffle dataset\n",
    "from sklearn.utils import shuffle\n",
    "df2 = shuffle(df2, random_state = 1)\n",
    "\n",
    "df2.to_csv(csv_analysis_fastai, index=False, na_rep = 'NA')"
   ]
  },
  {
   "cell_type": "markdown",
   "metadata": {},
   "source": [
    "## Analysis"
   ]
  },
  {
   "cell_type": "code",
   "execution_count": null,
   "metadata": {},
   "outputs": [],
   "source": [
    "df = pd.read_csv(csv_analysis_fastai)\n",
    "df.head()"
   ]
  },
  {
   "cell_type": "code",
   "execution_count": null,
   "metadata": {},
   "outputs": [],
   "source": [
    "# Generate bar graph\n",
    "pd.value_counts(df['Label']).sort_index().plot(kind='bar', title = 'Label distribution')\n",
    "fig1 = plt.gcf()\n",
    "plt.tight_layout()\n",
    "plt.xticks(rotation='vertical')\n",
    "fig1.savefig('BarGraph_Distribution_Label-All-25000x.png')\n",
    "plt.show()"
   ]
  },
  {
   "cell_type": "markdown",
   "metadata": {},
   "source": [
    "## Define validation dataset"
   ]
  },
  {
   "cell_type": "code",
   "execution_count": null,
   "metadata": {},
   "outputs": [],
   "source": [
    "#Test GroupKFold\n",
    "from sklearn.model_selection import GroupKFold\n",
    "\n",
    "groups = df['Acquisition']\n",
    "group_kfold = GroupKFold(n_splits=5)\n",
    "KFold_Iteration = 0\n",
    "for train_index, val_index in group_kfold.split(df['Location'],df['Label'],groups):\n",
    "    print(\"\\n\\nKFold_Iteration\", KFold_Iteration)\n",
    "    print(\"val_index\",val_index)\n",
    "    print(\"Length validation dataset: \", len(val_index))\n",
    "    \n",
    "    KFold_Iteration += 1\n",
    "    "
   ]
  },
  {
   "cell_type": "code",
   "execution_count": null,
   "metadata": {},
   "outputs": [],
   "source": [
    "df_val = df.iloc[val_index,:]\n",
    "df_val.groupby(['Label']).size()"
   ]
  },
  {
   "cell_type": "code",
   "execution_count": null,
   "metadata": {},
   "outputs": [],
   "source": [
    "pd.value_counts(df_val['Label']).sort_index().plot(kind='bar', title = 'Label distribution - Validation dataset')"
   ]
  },
  {
   "cell_type": "markdown",
   "metadata": {},
   "source": [
    "## Deep Learning analysis"
   ]
  },
  {
   "cell_type": "code",
   "execution_count": null,
   "metadata": {},
   "outputs": [],
   "source": [
    "# Data augmentation\n",
    "transforms = [RandomRotate(5), RandomLighting(0.05, 0.05), RandomDihedral()]"
   ]
  },
  {
   "cell_type": "code",
   "execution_count": null,
   "metadata": {},
   "outputs": [],
   "source": [
    "def get_data(rsz):\n",
    "    tfms = tfms_from_model(arch,sz,aug_tfms=transforms, crop_type=CropType.RANDOM, max_zoom=1.0)\n",
    "    return ImageClassifierData.from_csv(path,'data', csv_analysis_fastai, bs=bs, tfms=tfms, val_idxs=val_index, suffix='', test_name='', skip_header=True, num_workers=0)\n"
   ]
  },
  {
   "cell_type": "markdown",
   "metadata": {},
   "source": [
    "### Check data augmentation"
   ]
  },
  {
   "cell_type": "code",
   "execution_count": null,
   "metadata": {},
   "outputs": [],
   "source": [
    "data = get_data(sz)"
   ]
  },
  {
   "cell_type": "code",
   "execution_count": null,
   "metadata": {},
   "outputs": [],
   "source": [
    "#data = data.resize(rsz, 'tmp')"
   ]
  },
  {
   "cell_type": "code",
   "execution_count": null,
   "metadata": {},
   "outputs": [],
   "source": [
    "# Validation dataset\n",
    "list_val = iter(data.val_dl)\n"
   ]
  },
  {
   "cell_type": "code",
   "execution_count": null,
   "metadata": {},
   "outputs": [],
   "source": [
    "x,y=next(list_val)\n",
    "idx=0\n",
    "\n",
    "fig,axes = plt.subplots(3,3, figsize=(12,12))\n",
    "for i,ax in enumerate(axes.flat):\n",
    "    ima=data.val_ds.denorm(x)[i]\n",
    "    ax.set_title(data.classes[y[i]])\n",
    "    ax.imshow(ima)"
   ]
  },
  {
   "cell_type": "code",
   "execution_count": null,
   "metadata": {},
   "outputs": [],
   "source": [
    "#Training dataset\n",
    "list_trn = iter(data.trn_dl)"
   ]
  },
  {
   "cell_type": "code",
   "execution_count": null,
   "metadata": {},
   "outputs": [],
   "source": [
    "x,y=next(list_trn)\n",
    "idx=0\n",
    "\n",
    "fig,axes = plt.subplots(3,3, figsize=(12,12))\n",
    "for i,ax in enumerate(axes.flat):\n",
    "    ima=data.trn_ds.denorm(x)[i]\n",
    "    ax.set_title(data.classes[y[i]])\n",
    "    ax.imshow(ima)"
   ]
  },
  {
   "cell_type": "code",
   "execution_count": null,
   "metadata": {},
   "outputs": [],
   "source": []
  },
  {
   "cell_type": "markdown",
   "metadata": {},
   "source": [
    "### Network"
   ]
  },
  {
   "cell_type": "code",
   "execution_count": null,
   "metadata": {},
   "outputs": [],
   "source": [
    "# Main commands to load data and model\n",
    "learn = ConvLearner.pretrained(arch, data, precompute=False, pretrained=True, ps=[0.25,0.5])\n"
   ]
  },
  {
   "cell_type": "code",
   "execution_count": null,
   "metadata": {},
   "outputs": [],
   "source": [
    "learn"
   ]
  },
  {
   "cell_type": "code",
   "execution_count": null,
   "metadata": {},
   "outputs": [],
   "source": [
    "# Find automated learning rate\n",
    "lrf = learn.lr_find(end_lr=10)"
   ]
  },
  {
   "cell_type": "code",
   "execution_count": null,
   "metadata": {},
   "outputs": [],
   "source": [
    "learn.sched.plot_lr()"
   ]
  },
  {
   "cell_type": "code",
   "execution_count": null,
   "metadata": {},
   "outputs": [],
   "source": [
    "learn.sched.plot(n_skip=2)"
   ]
  },
  {
   "cell_type": "code",
   "execution_count": null,
   "metadata": {},
   "outputs": [],
   "source": [
    "lr = 5e-3"
   ]
  },
  {
   "cell_type": "code",
   "execution_count": null,
   "metadata": {},
   "outputs": [],
   "source": [
    "learn.fit(lr,5)"
   ]
  },
  {
   "cell_type": "code",
   "execution_count": null,
   "metadata": {},
   "outputs": [],
   "source": [
    "learn.fit(lr,10, cycle_len=1)"
   ]
  },
  {
   "cell_type": "code",
   "execution_count": null,
   "metadata": {},
   "outputs": [],
   "source": [
    "learn.sched.plot_lr()"
   ]
  },
  {
   "cell_type": "code",
   "execution_count": null,
   "metadata": {},
   "outputs": [],
   "source": [
    "learn.sched.plot_loss()"
   ]
  },
  {
   "cell_type": "code",
   "execution_count": null,
   "metadata": {},
   "outputs": [],
   "source": [
    "learn.save('224_lastlayer_resnet50_Label_All-25000x_Overlap-9Blocks_MajVoting')"
   ]
  },
  {
   "cell_type": "code",
   "execution_count": null,
   "metadata": {},
   "outputs": [],
   "source": [
    "learn.load('224_lastlayer_resnet50_Label_All-25000x_Overlap-9Blocks_MajVoting')"
   ]
  },
  {
   "cell_type": "code",
   "execution_count": null,
   "metadata": {},
   "outputs": [],
   "source": [
    "learn.unfreeze()\n",
    "lrs=np.array([lr/9,lr/3,lr])"
   ]
  },
  {
   "cell_type": "code",
   "execution_count": null,
   "metadata": {},
   "outputs": [],
   "source": [
    "lrf = learn.lr_find()"
   ]
  },
  {
   "cell_type": "code",
   "execution_count": null,
   "metadata": {},
   "outputs": [],
   "source": [
    "learn.sched.plot_lr()"
   ]
  },
  {
   "cell_type": "code",
   "execution_count": null,
   "metadata": {},
   "outputs": [],
   "source": [
    "learn.sched.plot()"
   ]
  },
  {
   "cell_type": "code",
   "execution_count": null,
   "metadata": {},
   "outputs": [],
   "source": [
    "lr=1e-4\n",
    "lrs=np.array([lr/9,lr/3,lr])\n",
    "learn.fit(lrs, 5, cycle_len=1, cycle_mult=2)"
   ]
  },
  {
   "cell_type": "code",
   "execution_count": null,
   "metadata": {},
   "outputs": [],
   "source": [
    "learn.sched.plot_lr()"
   ]
  },
  {
   "cell_type": "code",
   "execution_count": null,
   "metadata": {},
   "outputs": [],
   "source": [
    "learn.sched.plot_loss()"
   ]
  },
  {
   "cell_type": "code",
   "execution_count": null,
   "metadata": {},
   "outputs": [],
   "source": [
    "learn.save('224_all_resnet50_Label_All-25000x_Overlap-9Blocks_MajVoting')"
   ]
  },
  {
   "cell_type": "code",
   "execution_count": null,
   "metadata": {},
   "outputs": [],
   "source": [
    "learn.load('224_all_resnet50_Label_All-25000x_Overlap-9Blocks_MajVoting')"
   ]
  },
  {
   "cell_type": "markdown",
   "metadata": {},
   "source": [
    "## Inference"
   ]
  },
  {
   "cell_type": "code",
   "execution_count": null,
   "metadata": {},
   "outputs": [],
   "source": [
    "#Inference on validation data\n",
    "log_preds,y = learn.TTA()\n",
    "probs = np.mean(np.exp(log_preds),0)\n",
    "\n",
    "accuracy_np(probs,y)"
   ]
  },
  {
   "cell_type": "code",
   "execution_count": null,
   "metadata": {},
   "outputs": [],
   "source": [
    "# Confusion matrix\n",
    "from sklearn.metrics import confusion_matrix\n",
    "from fastai.plots import *\n",
    "y_pred = np.argmax(probs,1)\n",
    "cm = confusion_matrix(y,y_pred)\n",
    "plot_confusion_matrix(cm, data.classes)\n",
    "fig1 = plt.gcf()\n",
    "plt.tight_layout()\n",
    "fig1.savefig('ConfusionMatrix_All-25000x_Overlap-9Blocks.png')\n",
    "plt.show()"
   ]
  },
  {
   "cell_type": "code",
   "execution_count": null,
   "metadata": {},
   "outputs": [],
   "source": [
    "probs"
   ]
  },
  {
   "cell_type": "code",
   "execution_count": null,
   "metadata": {},
   "outputs": [],
   "source": [
    "from sklearn.metrics import f1_score\n",
    "print(f1_score(y, y_pred, average=None))\n",
    "print(f1_score(y, y_pred, average='micro'))\n",
    "print(f1_score(y, y_pred, average='macro'))\n",
    "print(f1_score(y, y_pred, average='weighted'))"
   ]
  },
  {
   "cell_type": "code",
   "execution_count": null,
   "metadata": {},
   "outputs": [],
   "source": [
    "from sklearn.metrics import classification_report\n",
    "print(classification_report(y, y_pred, target_names=data.classes))"
   ]
  },
  {
   "cell_type": "markdown",
   "metadata": {
    "jupyter": {
     "outputs_hidden": true
    }
   },
   "source": [
    "### Analysis - majority voting"
   ]
  },
  {
   "cell_type": "code",
   "execution_count": null,
   "metadata": {},
   "outputs": [],
   "source": [
    "df_val.head()"
   ]
  },
  {
   "cell_type": "code",
   "execution_count": null,
   "metadata": {},
   "outputs": [],
   "source": [
    "df_val['TrueLabel'] = y.tolist()\n",
    "df_val['PredLabel'] = y_pred.tolist()\n",
    "df_val.head()"
   ]
  },
  {
   "cell_type": "code",
   "execution_count": null,
   "metadata": {},
   "outputs": [],
   "source": [
    "df_val.to_csv('./tmp_val.csv', index=False, na_rep = 'NA')"
   ]
  },
  {
   "cell_type": "code",
   "execution_count": null,
   "metadata": {},
   "outputs": [],
   "source": [
    "# Majority voting\n",
    "df_TrueLabel_MajVoting = df_val.groupby(['Acquisition'])['TrueLabel'].apply(lambda x: x.mode()[0]).reset_index(name='TrueLabel_MajVoting')\n",
    "df_TrueLabel_MajVoting.head(15)"
   ]
  },
  {
   "cell_type": "code",
   "execution_count": null,
   "metadata": {},
   "outputs": [],
   "source": [
    "df_val.groupby(['Acquisition'])['PredLabel'].apply(lambda x: x.mode())"
   ]
  },
  {
   "cell_type": "code",
   "execution_count": null,
   "metadata": {},
   "outputs": [],
   "source": [
    "df_PredLabel_MajVoting = df_val.groupby(['Acquisition'])['PredLabel'].apply(lambda x: x.mode()[0]).reset_index(name='PredLabel_MajVoting')\n",
    "df_PredLabel_MajVoting.head(15)"
   ]
  },
  {
   "cell_type": "code",
   "execution_count": null,
   "metadata": {},
   "outputs": [],
   "source": [
    "TrueLabel_MajVoting = df_TrueLabel_MajVoting['TrueLabel_MajVoting'].values\n",
    "print(TrueLabel_MajVoting)\n",
    "print(TrueLabel_MajVoting.size)"
   ]
  },
  {
   "cell_type": "code",
   "execution_count": null,
   "metadata": {},
   "outputs": [],
   "source": [
    "PredLabel_MajVoting = df_PredLabel_MajVoting['PredLabel_MajVoting'].values\n",
    "PredLabel_MajVoting"
   ]
  },
  {
   "cell_type": "code",
   "execution_count": null,
   "metadata": {},
   "outputs": [],
   "source": [
    "from sklearn.metrics import accuracy_score\n",
    "accuracy_score(TrueLabel_MajVoting,PredLabel_MajVoting)"
   ]
  },
  {
   "cell_type": "code",
   "execution_count": null,
   "metadata": {},
   "outputs": [],
   "source": [
    "print(classification_report(TrueLabel_MajVoting, PredLabel_MajVoting, target_names=data.classes))"
   ]
  },
  {
   "cell_type": "code",
   "execution_count": null,
   "metadata": {},
   "outputs": [],
   "source": [
    "cm2 = confusion_matrix(TrueLabel_MajVoting,PredLabel_MajVoting)\n",
    "plot_confusion_matrix(cm2, data.classes)\n",
    "fig2 = plt.gcf()\n",
    "plt.tight_layout()\n",
    "fig2.savefig('ConfusionMatrix_All-25000x_Overlap-9Blocks_MajVoting.png')\n",
    "plt.show()"
   ]
  },
  {
   "cell_type": "markdown",
   "metadata": {
    "jupyter": {
     "outputs_hidden": true
    }
   },
   "source": [
    "### Exploratory analysis - variable size / shape information"
   ]
  },
  {
   "cell_type": "code",
   "execution_count": null,
   "metadata": {},
   "outputs": [],
   "source": [
    "data.classes"
   ]
  },
  {
   "cell_type": "code",
   "execution_count": null,
   "metadata": {},
   "outputs": [],
   "source": [
    "# Validation size: xx images\n",
    "y.shape"
   ]
  },
  {
   "cell_type": "code",
   "execution_count": null,
   "metadata": {},
   "outputs": [],
   "source": [
    "# Predictions shape: \n",
    "# - dimension 1: 5 TTA images ( 1 main image + 4 augmented)\n",
    "# - dimension 2: xx validation images\n",
    "# - dimension 3: 5 classes\n",
    "log_preds.shape"
   ]
  },
  {
   "cell_type": "code",
   "execution_count": null,
   "metadata": {},
   "outputs": [],
   "source": [
    "log_preds[0].shape"
   ]
  },
  {
   "cell_type": "code",
   "execution_count": null,
   "metadata": {},
   "outputs": [],
   "source": [
    "np.exp(log_preds[0])\n"
   ]
  },
  {
   "cell_type": "code",
   "execution_count": null,
   "metadata": {},
   "outputs": [],
   "source": [
    "probs_0 = np.mean(np.exp(log_preds[0]),0)\n",
    "probs_0"
   ]
  },
  {
   "cell_type": "code",
   "execution_count": null,
   "metadata": {},
   "outputs": [],
   "source": [
    "np.argmax(probs[0],0)"
   ]
  },
  {
   "cell_type": "code",
   "execution_count": null,
   "metadata": {},
   "outputs": [],
   "source": [
    "y[0]"
   ]
  },
  {
   "cell_type": "markdown",
   "metadata": {},
   "source": [
    "### Quality Control"
   ]
  },
  {
   "cell_type": "code",
   "execution_count": null,
   "metadata": {},
   "outputs": [],
   "source": [
    "y_pred = np.argmax(probs,1)\n",
    "y_pred"
   ]
  },
  {
   "cell_type": "code",
   "execution_count": null,
   "metadata": {},
   "outputs": [],
   "source": [
    "y"
   ]
  },
  {
   "cell_type": "code",
   "execution_count": null,
   "metadata": {},
   "outputs": [],
   "source": [
    "# Number of element for Quality control\n",
    "Nb_elements = 4\n"
   ]
  },
  {
   "cell_type": "code",
   "execution_count": null,
   "metadata": {},
   "outputs": [],
   "source": [
    "\n",
    "def Retrieve_CorrectIndices(TrueLabel, PredictedLabel, ClassNb):\n",
    "    # Array of correct predictions\n",
    "    Index_equal = np.equal(TrueLabel, PredictedLabel)\n",
    "    # Array corresponding to ClassNb of Interest\n",
    "    TrueLabel_ClassNb = np.equal(TrueLabel, ClassNb)\n",
    "    # Logical Operator AND\n",
    "    Output_AND = np.logical_and(Index_equal, TrueLabel_ClassNb)\n",
    "    # Return list of indices where value = True\n",
    "    Output = np.where(Output_AND == True)[0]\n",
    "    # Return 5 random indices only\n",
    "    Output_rand = np.random.choice(Output, Nb_elements, replace=False)\n",
    "    \n",
    "    #print('Index_equal',Index_equal)\n",
    "    #print('TrueLabel_ClassNb',TrueLabel_ClassNb)\n",
    "    #print('Output_AND',Output_AND)\n",
    "    #print('Output',Output)\n",
    "    #print('Output_rand',Output_rand)\n",
    "    \n",
    "    return Output_rand\n",
    "    \n",
    "    \n",
    "    "
   ]
  },
  {
   "cell_type": "code",
   "execution_count": null,
   "metadata": {},
   "outputs": [],
   "source": [
    "Retrieve_CorrectIndices(y,y_pred,0)"
   ]
  },
  {
   "cell_type": "code",
   "execution_count": null,
   "metadata": {},
   "outputs": [],
   "source": [
    "def Retrieve_InCorrectIndices(TrueLabel, PredictedLabel, ClassNb):\n",
    "    # Array of correct predictions\n",
    "    Index_notequal = np.not_equal(TrueLabel, PredictedLabel)\n",
    "    # Array corresponding to ClassNb of Interest\n",
    "    TrueLabel_ClassNb = np.equal(TrueLabel, ClassNb)\n",
    "    # Logical Operator AND\n",
    "    Output_AND = np.logical_and(Index_notequal, TrueLabel_ClassNb)\n",
    "    # Return list of indices where value = True\n",
    "    Output = np.where(Output_AND == True)[0]\n",
    "    # Return 5 random indices only\n",
    "    Output_rand = np.random.choice(Output, Nb_elements, replace=False)\n",
    "    \n",
    "    #print('Index_notequal',Index_notequal)\n",
    "    #print('TrueLabel_ClassNb',TrueLabel_ClassNb)\n",
    "    #print('Output_AND',Output_AND)\n",
    "    #print('Output',Output)\n",
    "    #print('Output_rand',Output_rand)\n",
    "    \n",
    "    return Output_rand"
   ]
  },
  {
   "cell_type": "code",
   "execution_count": null,
   "metadata": {},
   "outputs": [],
   "source": [
    "Retrieve_InCorrectIndices(y,y_pred,0)"
   ]
  },
  {
   "cell_type": "code",
   "execution_count": null,
   "metadata": {},
   "outputs": [],
   "source": [
    "# Inputs: idxs- list of 5 random indices, plot title\n",
    "def plot_Clem(idxs, title):\n",
    "    print(title)\n",
    "    #print(idxs)\n",
    "    #title_probs = [y_pred[x] for x in idxs]\n",
    "    #print(title_probs)\n",
    "    fig,axes = plt.subplots(1,Nb_elements, figsize=(20,20))\n",
    "    for i,ax in enumerate(axes.flat):\n",
    "        idx = idxs[i]\n",
    "        plot_title = data.classes[y_pred[idx]]\n",
    "        ima=open_image(df.at[idx,\"Location\"])\n",
    "        ax.set_title(plot_title)\n",
    "        ax.imshow(ima)"
   ]
  },
  {
   "cell_type": "code",
   "execution_count": null,
   "metadata": {},
   "outputs": [],
   "source": [
    "ClassNb = 0\n",
    "title = 'Correctly classified - Class ' + data.classes[ClassNb]\n",
    "plot_Clem(Retrieve_CorrectIndices(y,y_pred,ClassNb), title)"
   ]
  },
  {
   "cell_type": "code",
   "execution_count": null,
   "metadata": {},
   "outputs": [],
   "source": [
    "ClassNb = 0\n",
    "title = 'Incorrectly classified - Class ' + data.classes[ClassNb]\n",
    "plot_Clem(Retrieve_InCorrectIndices(y,y_pred,ClassNb), title)"
   ]
  },
  {
   "cell_type": "code",
   "execution_count": null,
   "metadata": {},
   "outputs": [],
   "source": [
    "ClassNb = 1\n",
    "title = 'Correctly classified - Class ' + data.classes[ClassNb]\n",
    "plot_Clem(Retrieve_CorrectIndices(y,y_pred,ClassNb), title)"
   ]
  },
  {
   "cell_type": "code",
   "execution_count": null,
   "metadata": {},
   "outputs": [],
   "source": [
    "ClassNb = 1\n",
    "title = 'Incorrectly classified - Class ' + data.classes[ClassNb]\n",
    "plot_Clem(Retrieve_InCorrectIndices(y,y_pred,ClassNb), title)"
   ]
  },
  {
   "cell_type": "code",
   "execution_count": null,
   "metadata": {},
   "outputs": [],
   "source": [
    "ClassNb = 2\n",
    "title = 'Correctly classified - Class ' + data.classes[ClassNb]\n",
    "plot_Clem(Retrieve_CorrectIndices(y,y_pred,ClassNb), title)"
   ]
  },
  {
   "cell_type": "code",
   "execution_count": null,
   "metadata": {},
   "outputs": [],
   "source": [
    "ClassNb = 2\n",
    "title = 'Incorrectly classified - Class ' + data.classes[ClassNb]\n",
    "plot_Clem(Retrieve_InCorrectIndices(y,y_pred,ClassNb), title)"
   ]
  },
  {
   "cell_type": "code",
   "execution_count": null,
   "metadata": {},
   "outputs": [],
   "source": [
    "ClassNb = 3\n",
    "title = 'Correctly classified - Class ' + data.classes[ClassNb]\n",
    "plot_Clem(Retrieve_CorrectIndices(y,y_pred,ClassNb), title)"
   ]
  },
  {
   "cell_type": "code",
   "execution_count": null,
   "metadata": {},
   "outputs": [],
   "source": [
    "ClassNb = 4\n",
    "title = 'Correctly classified - Class ' + data.classes[ClassNb]\n",
    "plot_Clem(Retrieve_CorrectIndices(y,y_pred,ClassNb), title)"
   ]
  },
  {
   "cell_type": "code",
   "execution_count": null,
   "metadata": {},
   "outputs": [],
   "source": []
  }
 ],
 "metadata": {
  "kernelspec": {
   "display_name": "Python 3 (ipykernel)",
   "language": "python",
   "name": "python3"
  },
  "language_info": {
   "codemirror_mode": {
    "name": "ipython",
    "version": 3
   },
   "file_extension": ".py",
   "mimetype": "text/x-python",
   "name": "python",
   "nbconvert_exporter": "python",
   "pygments_lexer": "ipython3",
   "version": "3.10.13"
  },
  "toc": {
   "colors": {
    "hover_highlight": "#DAA520",
    "navigate_num": "#000000",
    "navigate_text": "#333333",
    "running_highlight": "#FF0000",
    "selected_highlight": "#FFD700",
    "sidebar_border": "#EEEEEE",
    "wrapper_background": "#FFFFFF"
   },
   "moveMenuLeft": true,
   "nav_menu": {
    "height": "266px",
    "width": "252px"
   },
   "navigate_menu": true,
   "number_sections": true,
   "sideBar": true,
   "threshold": 4,
   "toc_cell": false,
   "toc_section_display": "block",
   "toc_window_display": false,
   "widenNotebook": false
  }
 },
 "nbformat": 4,
 "nbformat_minor": 4
}
