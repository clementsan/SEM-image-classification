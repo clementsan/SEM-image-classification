{
 "cells": [
  {
   "cell_type": "markdown",
   "metadata": {},
   "source": [
    "#  Classification - ResNet50 - All with 5-fold analysis and majority voting - overlap 9blocks"
   ]
  },
  {
   "cell_type": "code",
   "execution_count": null,
   "metadata": {},
   "outputs": [],
   "source": [
    "# Put these at the top of every notebook, to get automatic reloading and inline plotting\n",
    "%reload_ext autoreload\n",
    "%autoreload 2\n",
    "%matplotlib inline"
   ]
  },
  {
   "cell_type": "code",
   "execution_count": null,
   "metadata": {},
   "outputs": [],
   "source": [
    "# setup CUDA_VISIBLE DEVICES for titan.sci.utah.edu\n",
    "import os\n",
    "os.environ[\"CUDA_VISIBLE_DEVICES\"] = '0'\n"
   ]
  },
  {
   "cell_type": "code",
   "execution_count": null,
   "metadata": {},
   "outputs": [],
   "source": [
    "# This file contains all the main external libs we'll use\n",
    "from fastai.imports import *\n",
    "\n",
    "#from fastai.transforms import *\n",
    "from fastai.conv_learner import *\n",
    "#from fastai.model import *\n",
    "#from fastai.dataset import *\n",
    "#from fastai.sgdr import *\n",
    "#from fastai.plots import *\n",
    "\n",
    "import pandas as pd\n",
    "import numpy as np\n",
    "\n",
    "from sklearn.model_selection import KFold, GroupKFold\n",
    "from sklearn.metrics import accuracy_score\n",
    "from sklearn.metrics import classification_report\n",
    "\n",
    "\n",
    "# Confusion matrix\n",
    "from sklearn.metrics import confusion_matrix\n",
    "from fastai.plots import *"
   ]
  },
  {
   "cell_type": "code",
   "execution_count": null,
   "metadata": {},
   "outputs": [],
   "source": [
    "# Parameters and hyper-parameters\n",
    "\n",
    "PATH = '~/Project_SEM/Project_TargetClass/Analysis_All/scripts_Clem_notebooks_CV'\n",
    "csv_all = os.path.join(PATH,'Dataset_TargetClass_Overlap-9Blocks.csv')\n",
    "#csv_analysis = os.path.join(os.getcwd(),'Dataset_ImageClassification_TargetClass_Overlap-9Blocks_Filtered_All.csv')\n",
    "csv_analysis_fastai = os.path.join(PATH,'Dataset_TargetClass_Overlap-9Blocks_Filtered_All_fastai.csv')\n",
    "# Network architecture\n",
    "arch = resnet50\n",
    "# Image size\n",
    "rsz = 400\n",
    "sz = 224\n",
    "# Batch size\n",
    "bs = 64\n",
    "# Default learning rate\n",
    "lr = 0.01"
   ]
  },
  {
   "cell_type": "markdown",
   "metadata": {},
   "source": [
    "## Dataset creation for specific analysis"
   ]
  },
  {
   "cell_type": "code",
   "execution_count": null,
   "metadata": {},
   "outputs": [],
   "source": [
    "# Read csv file and create dataframe\n",
    "df1 = pd.read_csv(csv_all, sep=',', parse_dates = ['AcquisitionDate'])\n",
    "#df['Impurities'] = df['Impurities'].astype(str)\n",
    "\n",
    "df1.shape\n"
   ]
  },
  {
   "cell_type": "code",
   "execution_count": null,
   "metadata": {},
   "outputs": [],
   "source": [
    "df1.head()"
   ]
  },
  {
   "cell_type": "code",
   "execution_count": null,
   "metadata": {},
   "outputs": [],
   "source": [
    "pd.value_counts(df1['StartingMaterial'])"
   ]
  },
  {
   "cell_type": "code",
   "execution_count": null,
   "metadata": {},
   "outputs": [],
   "source": [
    "# Filder dataset\n",
    "#Filter_List = ['Filter1','Filter2','Filter3']\n",
    "\n",
    "# Create new dataframe\n",
    "#df2 = df1[df1['FilterTag'].isin(Filter_List)]\n",
    "df2 = df1\n",
    "df2.shape"
   ]
  },
  {
   "cell_type": "code",
   "execution_count": null,
   "metadata": {},
   "outputs": [],
   "source": [
    "pd.value_counts(df2['StartingMaterial'])"
   ]
  },
  {
   "cell_type": "code",
   "execution_count": null,
   "metadata": {},
   "outputs": [],
   "source": [
    "# Retrieve individual ImageNb\n",
    "df2['ImageNb'] = df2['Location'].apply(lambda x: x.split('_')[-4])\n",
    "df2 = df2.astype({\"ImageNb\": str})\n",
    "# Create individual acquisition\n",
    "df2['Acquisition'] = df2[['Material','StartingMaterial','Magnification','ImageNb']].apply(lambda x: '_'.join(x), axis=1)\n",
    "df2.head()"
   ]
  },
  {
   "cell_type": "code",
   "execution_count": null,
   "metadata": {},
   "outputs": [],
   "source": [
    "# Define distinct classification Label\n",
    "df2['Label'] = df2[['Material','StartingMaterial']].apply(lambda x: 'from'.join(x), axis=1)\n"
   ]
  },
  {
   "cell_type": "code",
   "execution_count": null,
   "metadata": {},
   "outputs": [],
   "source": [
    "# Save dataframe to CSV file (to be used for fastai - Deep learning)\n",
    "# Keep only 2 columns: location, and dependent variable 'Label'\n",
    "df2 = df2[['Location','Label','Acquisition']]\n",
    "\n",
    "# Shuffle dataset\n",
    "from sklearn.utils import shuffle\n",
    "df2 = shuffle(df2, random_state = 1)\n",
    "\n",
    "df2.to_csv(csv_analysis_fastai, index=False, na_rep = 'NA')"
   ]
  },
  {
   "cell_type": "markdown",
   "metadata": {},
   "source": [
    "## Analysis"
   ]
  },
  {
   "cell_type": "code",
   "execution_count": null,
   "metadata": {},
   "outputs": [],
   "source": [
    "label_df = pd.read_csv(csv_analysis_fastai)\n",
    "label_df.head()"
   ]
  },
  {
   "cell_type": "code",
   "execution_count": null,
   "metadata": {},
   "outputs": [],
   "source": [
    "pd.value_counts(label_df['Label']).sort_index().plot(kind='bar', title = 'Label distribution - Full dataset')"
   ]
  },
  {
   "cell_type": "code",
   "execution_count": null,
   "metadata": {},
   "outputs": [],
   "source": [
    "# Generate bar graph\n",
    "pd.value_counts(label_df['Label']).sort_index().plot(kind='bar', title = 'Label distribution')\n",
    "fig1 = plt.gcf()\n",
    "plt.tight_layout()\n",
    "plt.xticks(rotation='vertical')\n",
    "fig1.savefig('BarGraph_Distribution_Label-All.png')\n",
    "plt.show()"
   ]
  },
  {
   "cell_type": "code",
   "execution_count": null,
   "metadata": {},
   "outputs": [],
   "source": [
    "def MajorityVoting(df_val, y, y_pred):\n",
    "    df_val['TrueLabel'] = y.tolist()\n",
    "    df_val['PredLabel'] = y_pred.tolist()\n",
    "\n",
    "    # Majority voting\n",
    "    df_TrueLabel_MajVoting = df_val.groupby(['Acquisition'])['TrueLabel'].apply(lambda x: x.mode()[0]).reset_index(name='TrueLabel_MajVoting')\n",
    "    df_PredLabel_MajVoting = df_val.groupby(['Acquisition'])['PredLabel'].apply(lambda x: x.mode()[0]).reset_index(name='PredLabel_MajVoting')\n",
    "\n",
    "    TrueLabel_MajVoting = df_TrueLabel_MajVoting['TrueLabel_MajVoting'].values\n",
    "    PredLabel_MajVoting = df_PredLabel_MajVoting['PredLabel_MajVoting'].values\n",
    "\n",
    "    return TrueLabel_MajVoting, PredLabel_MajVoting"
   ]
  },
  {
   "cell_type": "code",
   "execution_count": null,
   "metadata": {},
   "outputs": [],
   "source": [
    "# Data augmentation\n",
    "transforms = [RandomRotate(5), RandomLighting(0.05, 0.05), RandomDihedral()]"
   ]
  },
  {
   "cell_type": "code",
   "execution_count": null,
   "metadata": {},
   "outputs": [],
   "source": [
    "lr = 5e-3\n",
    "\n",
    "TTA_Accuracies = []\n",
    "CM_Array = []\n",
    "Report_Array = []\n",
    "\n",
    "TTA_Accuracies_MajVoting = []\n",
    "CM_Array_MajVoting = []\n",
    "Report_Array_MajVoting = []\n",
    "\n",
    "KFold_Iteration = 0\n",
    "\n",
    "# KFold by group\n",
    "from sklearn.model_selection import GroupKFold\n",
    "groups = label_df['Acquisition']\n",
    "group_kfold = GroupKFold(n_splits=5)\n",
    "\n",
    "for train_index, val_index in group_kfold.split(label_df['Location'],label_df['Label'],groups):\n",
    "    print(\"\\n\\nKFold_Iteration\", KFold_Iteration)\n",
    "    #print(\"\\ntrain_index\",train_index)\n",
    "    #print(\"val_index\",val_index)\n",
    "    print(\"Length validation dataset: \", len(val_index))\n",
    "    \n",
    "    tfms = tfms_from_model(arch,sz,aug_tfms=transforms, crop_type=CropType.RANDOM, max_zoom=1.0)\n",
    "    data = ImageClassifierData.from_csv(PATH,'data', csv_analysis_fastai, bs=bs, tfms=tfms, val_idxs=val_index, suffix='', test_name='', skip_header=True, num_workers=2)\n",
    "    learn = ConvLearner.pretrained(arch, data, precompute=False, pretrained=True, ps=[0.25,0.5])\n",
    "    \n",
    "    print(\"Optimizing Last layer only...\")\n",
    "    lr = 5e-3\n",
    "    learn.fit(lr, 5)\n",
    "    #learn.precompute=False\n",
    "    learn.fit(lr, 10, cycle_len=1)\n",
    "    print(\"\\nOptimizing full model...\")\n",
    "    learn.unfreeze()\n",
    "    lr = 5e-4\n",
    "    lrs=np.array([lr/9,lr/3,lr])\n",
    "    learn.fit(lrs, 5, cycle_len=1, cycle_mult=2)\n",
    "    \n",
    "    print(\"TTA inference...\")\n",
    "    log_preds,y = learn.TTA()\n",
    "    probs = np.mean(np.exp(log_preds),0)\n",
    "    Accuracy = accuracy_np(probs,y)\n",
    "    print(\"Accuracy: \", Accuracy)\n",
    "    TTA_Accuracies.append(Accuracy)\n",
    "    \n",
    "    print(\" Confusion Matrix...\")\n",
    "    y_pred = np.argmax(probs,1)\n",
    "    cm = confusion_matrix(y,y_pred)\n",
    "    plot_confusion_matrix(cm, data.classes)\n",
    "    CM_Array.append(cm)\n",
    "    \n",
    "    print(\" Classification Report...\")\n",
    "    Report = classification_report(y, y_pred, target_names=data.classes,output_dict=True)\n",
    "    print(Report)\n",
    "    Report_Array.append(Report)\n",
    "    \n",
    "    # Majority voting\n",
    "    df_val = label_df.iloc[val_index,:]\n",
    "    TrueLabel_MajVoting, PredLabel_MajVoting = MajorityVoting(df_val, y, y_pred)\n",
    "    Accuracy_MajVoting = accuracy_score(TrueLabel_MajVoting,PredLabel_MajVoting)\n",
    "    print(\"Accuracy_MajVoting: \", Accuracy_MajVoting)\n",
    "    print(\" Confusion Matrix - MajVoting...\")\n",
    "    cm_MajVoting = confusion_matrix(TrueLabel_MajVoting,PredLabel_MajVoting)\n",
    "    plot_confusion_matrix(cm_MajVoting, data.classes)\n",
    "    print(\" Classification Report - MajVoting...\")\n",
    "    Report_MajVoting = classification_report(TrueLabel_MajVoting, PredLabel_MajVoting, target_names=data.classes,output_dict=True)\n",
    "    print(Report_MajVoting)\n",
    "    \n",
    "    TTA_Accuracies_MajVoting.append(Accuracy_MajVoting)\n",
    "    CM_Array_MajVoting.append(cm_MajVoting)\n",
    "    Report_Array_MajVoting.append(Report_MajVoting)\n",
    "    \n",
    "    KFold_Iteration += 1\n"
   ]
  },
  {
   "cell_type": "code",
   "execution_count": null,
   "metadata": {},
   "outputs": [],
   "source": [
    "print(\"\\nResults overview\")\n",
    "TTA_Inference_avg = np.average(TTA_Accuracies)\n",
    "TTA_Inference_std = np.std(TTA_Accuracies)\n",
    "print(\"TTA_Inference_avg\",TTA_Inference_avg)\n",
    "print(\"TTA_Inference_std\",TTA_Inference_std)\n"
   ]
  },
  {
   "cell_type": "code",
   "execution_count": null,
   "metadata": {},
   "outputs": [],
   "source": [
    "learn"
   ]
  },
  {
   "cell_type": "code",
   "execution_count": null,
   "metadata": {},
   "outputs": [],
   "source": [
    "CM_final = CM_Array[0] + CM_Array[1] + CM_Array[2] + CM_Array[3] + CM_Array[4]"
   ]
  },
  {
   "cell_type": "code",
   "execution_count": null,
   "metadata": {},
   "outputs": [],
   "source": [
    "plot_confusion_matrix(CM_final, data.classes)\n",
    "fig1 = plt.gcf()\n",
    "plt.xticks(rotation='vertical')\n",
    "plt.tight_layout()\n",
    "fig1.savefig('ConfusionMatrix-Total_All_CV_Overlap-9Blocks.png')\n",
    "plt.show()"
   ]
  },
  {
   "cell_type": "markdown",
   "metadata": {
    "jupyter": {
     "outputs_hidden": true
    }
   },
   "source": [
    "## Majority Voting"
   ]
  },
  {
   "cell_type": "code",
   "execution_count": null,
   "metadata": {},
   "outputs": [],
   "source": [
    "print(\"\\nResults overview - Majority Voting\")\n",
    "TTA_Inference_avg_MajVoting = np.average(TTA_Accuracies_MajVoting)\n",
    "TTA_Inference_std_MajVoting = np.std(TTA_Accuracies_MajVoting)\n",
    "print(\"TTA_Inference_avg\",TTA_Inference_avg_MajVoting)\n",
    "print(\"TTA_Inference_std\",TTA_Inference_std_MajVoting)"
   ]
  },
  {
   "cell_type": "code",
   "execution_count": null,
   "metadata": {},
   "outputs": [],
   "source": [
    "CM_final_MajVoting = CM_Array_MajVoting[0] + CM_Array_MajVoting[1] + CM_Array_MajVoting[2] + CM_Array_MajVoting[3] + CM_Array_MajVoting[4]"
   ]
  },
  {
   "cell_type": "code",
   "execution_count": null,
   "metadata": {},
   "outputs": [],
   "source": [
    "plot_confusion_matrix(CM_final_MajVoting, data.classes)\n",
    "fig2 = plt.gcf()\n",
    "plt.xticks(rotation='vertical')\n",
    "plt.tight_layout()\n",
    "fig2.savefig('ConfusionMatrix-Total_All_CV_Overlap-9Blocks_MajVoting.png')\n",
    "plt.show()"
   ]
  },
  {
   "cell_type": "code",
   "execution_count": null,
   "metadata": {},
   "outputs": [],
   "source": [
    "print(Report_Array_MajVoting[0])"
   ]
  },
  {
   "cell_type": "code",
   "execution_count": null,
   "metadata": {},
   "outputs": [],
   "source": [
    "print(Report_Array_MajVoting[0]['weighted avg']['f1-score'])"
   ]
  },
  {
   "cell_type": "code",
   "execution_count": null,
   "metadata": {},
   "outputs": [],
   "source": [
    "Report_Array_MajVoting_f1score = [d['weighted avg']['f1-score'] for d in Report_Array_MajVoting]\n",
    "print(Report_Array_MajVoting_f1score)\n",
    "\n",
    "MajVoting_f1score_avg = np.average(Report_Array_MajVoting_f1score)\n",
    "MajVoting_f1score_std = np.std(Report_Array_MajVoting_f1score)\n",
    "print(\"MajVoting_f1score_avg: \",MajVoting_f1score_avg)\n",
    "print(\"MajVoting_f1score_std: \",MajVoting_f1score_std)"
   ]
  },
  {
   "cell_type": "code",
   "execution_count": null,
   "metadata": {},
   "outputs": [],
   "source": [
    "Report_Array_MajVoting_precision = [d['weighted avg']['precision'] for d in Report_Array_MajVoting]\n",
    "print(Report_Array_MajVoting_precision)\n",
    "\n",
    "MajVoting_precision_avg = np.average(Report_Array_MajVoting_precision)\n",
    "MajVoting_precision_std = np.std(Report_Array_MajVoting_precision)\n",
    "print(\"MajVoting_precision_avg: \",MajVoting_precision_avg)\n",
    "print(\"MajVoting_precision_std: \",MajVoting_precision_std)"
   ]
  },
  {
   "cell_type": "code",
   "execution_count": null,
   "metadata": {},
   "outputs": [],
   "source": [
    "Report_Array_MajVoting_recall = [d['weighted avg']['recall'] for d in Report_Array_MajVoting]\n",
    "print(Report_Array_MajVoting_recall)\n",
    "\n",
    "MajVoting_recall_avg = np.average(Report_Array_MajVoting_recall)\n",
    "MajVoting_recall_std = np.std(Report_Array_MajVoting_recall)\n",
    "print(\"MajVoting_recall_avg: \",MajVoting_recall_avg)\n",
    "print(\"MajVoting_recall_std: \",MajVoting_recall_std)"
   ]
  },
  {
   "cell_type": "code",
   "execution_count": null,
   "metadata": {},
   "outputs": [],
   "source": [
    "for i,report in enumerate(Report_Array_MajVoting):\n",
    "  print(\"\\n Iteration: \",i)\n",
    "  print(report)"
   ]
  },
  {
   "cell_type": "code",
   "execution_count": null,
   "metadata": {},
   "outputs": [],
   "source": []
  }
 ],
 "metadata": {
  "kernelspec": {
   "display_name": "Python 3 (ipykernel)",
   "language": "python",
   "name": "python3"
  },
  "language_info": {
   "codemirror_mode": {
    "name": "ipython",
    "version": 3
   },
   "file_extension": ".py",
   "mimetype": "text/x-python",
   "name": "python",
   "nbconvert_exporter": "python",
   "pygments_lexer": "ipython3",
   "version": "3.10.13"
  },
  "toc": {
   "colors": {
    "hover_highlight": "#DAA520",
    "navigate_num": "#000000",
    "navigate_text": "#333333",
    "running_highlight": "#FF0000",
    "selected_highlight": "#FFD700",
    "sidebar_border": "#EEEEEE",
    "wrapper_background": "#FFFFFF"
   },
   "moveMenuLeft": true,
   "nav_menu": {
    "height": "266px",
    "width": "252px"
   },
   "navigate_menu": true,
   "number_sections": true,
   "sideBar": true,
   "threshold": 4,
   "toc_cell": false,
   "toc_section_display": "block",
   "toc_window_display": false,
   "widenNotebook": false
  }
 },
 "nbformat": 4,
 "nbformat_minor": 4
}
